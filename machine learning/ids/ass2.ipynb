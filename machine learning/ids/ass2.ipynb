{
 "cells": [
  {
   "cell_type": "code",
   "execution_count": 23,
   "metadata": {},
   "outputs": [],
   "source": [
    "import pandas as pd\n",
    "import numpy as np\n",
    "import sklearn as sk \n",
    "from sklearn.impute import SimpleImputer\n",
    "from sklearn.model_selection import train_test_split\n",
    "from sklearn.preprocessing import StandardScaler"
   ]
  },
  {
   "cell_type": "code",
   "execution_count": 24,
   "metadata": {},
   "outputs": [
    {
     "name": "stdout",
     "output_type": "stream",
     "text": [
      "<class 'pandas.core.frame.DataFrame'>\n",
      "RangeIndex: 768 entries, 0 to 767\n",
      "Data columns (total 9 columns):\n",
      " #   Column                    Non-Null Count  Dtype  \n",
      "---  ------                    --------------  -----  \n",
      " 0   Pregnancies               768 non-null    int64  \n",
      " 1   Glucose                   768 non-null    int64  \n",
      " 2   BloodPressure             768 non-null    int64  \n",
      " 3   SkinThickness             768 non-null    int64  \n",
      " 4   Insulin                   768 non-null    int64  \n",
      " 5   BMI                       768 non-null    float64\n",
      " 6   DiabetesPedigreeFunction  768 non-null    float64\n",
      " 7   Age                       768 non-null    int64  \n",
      " 8   Outcome                   768 non-null    int64  \n",
      "dtypes: float64(2), int64(7)\n",
      "memory usage: 54.1 KB\n",
      "     Pregnancies  Glucose  BloodPressure  SkinThickness  Insulin   BMI  \\\n",
      "0              6      148             72             35        0  33.6   \n",
      "1              1       85             66             29        0  26.6   \n",
      "2              8      183             64              0        0  23.3   \n",
      "3              1       89             66             23       94  28.1   \n",
      "4              0      137             40             35      168  43.1   \n",
      "..           ...      ...            ...            ...      ...   ...   \n",
      "763           10      101             76             48      180  32.9   \n",
      "764            2      122             70             27        0  36.8   \n",
      "765            5      121             72             23      112  26.2   \n",
      "766            1      126             60              0        0  30.1   \n",
      "767            1       93             70             31        0  30.4   \n",
      "\n",
      "     DiabetesPedigreeFunction  Age  Outcome  \n",
      "0                       0.627   50        1  \n",
      "1                       0.351   31        0  \n",
      "2                       0.672   32        1  \n",
      "3                       0.167   21        0  \n",
      "4                       2.288   33        1  \n",
      "..                        ...  ...      ...  \n",
      "763                     0.171   63        0  \n",
      "764                     0.340   27        0  \n",
      "765                     0.245   30        0  \n",
      "766                     0.349   47        1  \n",
      "767                     0.315   23        0  \n",
      "\n",
      "[768 rows x 9 columns]\n"
     ]
    }
   ],
   "source": [
    "dataSet = pd.read_csv(r'C:\\Users\\worka\\OneDrive\\Desktop\\Github\\python-common-book\\machine learning\\ids\\diabetes.csv')\n",
    "dataSet.info()\n",
    "print(dataSet)"
   ]
  },
  {
   "cell_type": "code",
   "execution_count": 25,
   "metadata": {},
   "outputs": [],
   "source": [
    "cols_with_zeros = ['Glucose', 'BloodPressure', 'SkinThickness', 'Insulin', 'BMI']\n",
    "dataSet[cols_with_zeros] = dataSet[cols_with_zeros].replace(0, np.nan)"
   ]
  },
  {
   "cell_type": "code",
   "execution_count": 26,
   "metadata": {},
   "outputs": [
    {
     "name": "stdout",
     "output_type": "stream",
     "text": [
      "     Pregnancies  Glucose  BloodPressure  SkinThickness  Insulin   BMI  \\\n",
      "0              6    148.0           72.0           35.0    125.0  33.6   \n",
      "1              1     85.0           66.0           29.0    125.0  26.6   \n",
      "2              8    183.0           64.0           29.0    125.0  23.3   \n",
      "3              1     89.0           66.0           23.0     94.0  28.1   \n",
      "4              0    137.0           40.0           35.0    168.0  43.1   \n",
      "..           ...      ...            ...            ...      ...   ...   \n",
      "763           10    101.0           76.0           48.0    180.0  32.9   \n",
      "764            2    122.0           70.0           27.0    125.0  36.8   \n",
      "765            5    121.0           72.0           23.0    112.0  26.2   \n",
      "766            1    126.0           60.0           29.0    125.0  30.1   \n",
      "767            1     93.0           70.0           31.0    125.0  30.4   \n",
      "\n",
      "     DiabetesPedigreeFunction  Age  Outcome  \n",
      "0                       0.627   50        1  \n",
      "1                       0.351   31        0  \n",
      "2                       0.672   32        1  \n",
      "3                       0.167   21        0  \n",
      "4                       2.288   33        1  \n",
      "..                        ...  ...      ...  \n",
      "763                     0.171   63        0  \n",
      "764                     0.340   27        0  \n",
      "765                     0.245   30        0  \n",
      "766                     0.349   47        1  \n",
      "767                     0.315   23        0  \n",
      "\n",
      "[768 rows x 9 columns]\n"
     ]
    }
   ],
   "source": [
    "imputerMean = SimpleImputer(strategy='mean')\n",
    "imputerMedian = SimpleImputer(strategy='median')\n",
    "dataSet[['Glucose', 'BloodPressure']] = imputerMean.fit_transform(dataSet[['Glucose', 'BloodPressure']])\n",
    "dataSet[['SkinThickness', 'Insulin', 'BMI']] = imputerMedian.fit_transform(dataSet[['SkinThickness', 'Insulin', 'BMI']])\n",
    "print(dataSet)\n"
   ]
  },
  {
   "cell_type": "code",
   "execution_count": 27,
   "metadata": {},
   "outputs": [],
   "source": [
    "X = dataSet.iloc[:, :-1].values\n",
    "Y = dataSet.iloc[:, -1].values"
   ]
  },
  {
   "cell_type": "code",
   "execution_count": 28,
   "metadata": {},
   "outputs": [],
   "source": [
    "X_train, X_test, Y_train, Y_test = train_test_split(X, Y, test_size=0.2, random_state=42)"
   ]
  },
  {
   "cell_type": "code",
   "execution_count": 31,
   "metadata": {},
   "outputs": [
    {
     "name": "stdout",
     "output_type": "stream",
     "text": [
      "Training Set:  [[-0.52639686 -1.25828206  0.01321033 ... -0.00745016 -0.49073479\n",
      "  -1.03594038]\n",
      " [ 1.58804586 -0.32735374  0.8068672  ... -0.59909194  2.41502991\n",
      "   1.48710085]\n",
      " [-0.82846011  0.57032714 -2.17095414 ... -0.52694051  0.54916055\n",
      "  -0.94893896]\n",
      " ...\n",
      " [ 1.8901091  -0.69307558  1.13773624 ...  1.91177805  1.981245\n",
      "   0.44308379]\n",
      " [-1.13052335  0.63682202  0.01321033 ...  1.45000885 -0.78487662\n",
      "  -0.33992901]\n",
      " [-1.13052335  0.10486298  1.96490883 ... -1.42161832 -0.61552223\n",
      "  -1.03594038]]\n",
      "Testing Set:  [[ 0.68185612 -0.7928179  -1.17834702 ...  0.23786472 -0.11637247\n",
      "   0.87809089]\n",
      " [-0.52639686 -0.32735374  0.22784639 ...  0.4831796  -0.954231\n",
      "  -1.03594038]\n",
      " [-0.52639686 -0.4603435  -0.68204347 ... -0.22390447 -0.9245197\n",
      "  -1.03594038]\n",
      " ...\n",
      " [ 1.28598261 -0.89256022 -0.02030539 ...  0.64191276  0.04703966\n",
      "   2.0961108 ]\n",
      " [-0.52639686  0.80305922 -0.18573991 ... -0.62795252 -0.39268751\n",
      "  -0.33992901]\n",
      " [ 1.28598261 -1.59075646 -0.18573991 ...  0.42545845  0.70068816\n",
      "   0.53008521]]\n"
     ]
    }
   ],
   "source": [
    "scaler = StandardScaler()\n",
    "X_train = scaler.fit_transform(X_train)\n",
    "X_test = scaler.transform(X_test)\n",
    "print(\"Training Set: \",X_train)\n",
    "print(\"Testing Set: \",X_test)"
   ]
  },
  {
   "cell_type": "code",
   "execution_count": 32,
   "metadata": {},
   "outputs": [
    {
     "name": "stdout",
     "output_type": "stream",
     "text": [
      "I acknowledge that on the evening of February 20th, I wrote the code that exists in this file.\n",
      "I understand the implications of plagiarism and hereby take full responsibility.\n",
      "~ Aryan Sinha\n"
     ]
    }
   ],
   "source": [
    "print(\"\"\"I acknowledge that on the evening of February 20th, I wrote the code that exists in this file.\n",
    "I understand the implications of plagiarism and hereby take full responsibility.\n",
    "~ Aryan Sinha\"\"\")\n"
   ]
  }
 ],
 "metadata": {
  "kernelspec": {
   "display_name": "Python 3",
   "language": "python",
   "name": "python3"
  },
  "language_info": {
   "codemirror_mode": {
    "name": "ipython",
    "version": 3
   },
   "file_extension": ".py",
   "mimetype": "text/x-python",
   "name": "python",
   "nbconvert_exporter": "python",
   "pygments_lexer": "ipython3",
   "version": "3.10.11"
  }
 },
 "nbformat": 4,
 "nbformat_minor": 2
}
