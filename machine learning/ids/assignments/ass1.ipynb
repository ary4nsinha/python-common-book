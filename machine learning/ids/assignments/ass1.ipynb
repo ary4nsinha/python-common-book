{
 "cells": [
  {
   "cell_type": "markdown",
   "metadata": {},
   "source": [
    "Importing all libraries and functions"
   ]
  },
  {
   "cell_type": "code",
   "execution_count": 2,
   "metadata": {},
   "outputs": [],
   "source": [
    "import pandas as pd\n",
    "import numpy as np\n",
    "from sklearn.impute import SimpleImputer\n",
    "from sklearn.preprocessing import LabelEncoder, OneHotEncoder\n",
    "from sklearn.compose import ColumnTransformer\n",
    "from sklearn.model_selection import train_test_split\n",
    "from sklearn.preprocessing import StandardScaler\n"
   ]
  },
  {
   "cell_type": "markdown",
   "metadata": {},
   "source": []
  },
  {
   "cell_type": "markdown",
   "metadata": {},
   "source": [
    "Creating Dataset"
   ]
  },
  {
   "cell_type": "code",
   "execution_count": 3,
   "metadata": {},
   "outputs": [
    {
     "name": "stdout",
     "output_type": "stream",
     "text": [
      "     Age     City        Job   Income  Experience\n",
      "0   25.0     Pune   Engineer  65000.0         4.0\n",
      "1   30.0    Delhi     Doctor  80000.0         8.0\n",
      "2   28.0  Chennai    Manager      NaN         5.0\n",
      "3    NaN   Mumbai   Engineer  75000.0         2.0\n",
      "4   22.0    Delhi    Teacher  50000.0         1.0\n",
      "5   35.0     Pune        NaN  70000.0         6.0\n",
      "6   40.0      NaN  Scientist  95000.0        10.0\n",
      "7   26.0   Mumbai    Teacher  72000.0         3.0\n",
      "8   32.0    Delhi   Engineer  68000.0         7.0\n",
      "9    NaN  Chennai     Doctor  82000.0         NaN\n",
      "10  21.0     Pune   Engineer  64000.0         2.0\n",
      "11  34.0   Mumbai    Manager  74000.0         6.0\n",
      "12  31.0    Delhi    Manager  85000.0         7.0\n",
      "13  29.0     Pune  Scientist  90000.0         9.0\n",
      "14  33.0  Chennai     Doctor  78000.0         5.0\n"
     ]
    }
   ],
   "source": [
    "data = {\n",
    "    'Age': [25, 30, 28, np.nan, 22, 35, 40, 26, 32, np.nan, 21, 34, 31, 29, 33],\n",
    "    'City': ['Pune', 'Delhi', 'Chennai', 'Mumbai', 'Delhi', 'Pune', np.nan, 'Mumbai', 'Delhi',\n",
    "            'Chennai', 'Pune', 'Mumbai', 'Delhi', 'Pune', 'Chennai'],\n",
    "    'Job': ['Engineer', 'Doctor', 'Manager', 'Engineer', 'Teacher', np.nan, 'Scientist', 'Teacher',\n",
    "            'Engineer', 'Doctor', 'Engineer', 'Manager', 'Manager', 'Scientist', 'Doctor'],\n",
    "    'Income': [65000, 80000, np.nan, 75000, 50000, 70000, 95000, 72000, 68000, 82000, 64000, 74000, 85000, 90000, 78000], \n",
    "    'Experience': [4, 8, 5, 2, 1, 6, 10, 3, 7, np.nan, 2, 6, 7, 9, 5]\n",
    "}\n",
    "\n",
    "dataSet = pd.DataFrame(data)\n",
    "dataSet.to_csv('dummy_data.csv', index=False) \n",
    "print(dataSet)"
   ]
  },
  {
   "cell_type": "markdown",
   "metadata": {},
   "source": [
    "Loading the dataset"
   ]
  },
  {
   "cell_type": "code",
   "execution_count": 4,
   "metadata": {},
   "outputs": [
    {
     "name": "stdout",
     "output_type": "stream",
     "text": [
      "     Age     City        Job   Income  Experience\n",
      "0   25.0     Pune   Engineer  65000.0         4.0\n",
      "1   30.0    Delhi     Doctor  80000.0         8.0\n",
      "2   28.0  Chennai    Manager      NaN         5.0\n",
      "3    NaN   Mumbai   Engineer  75000.0         2.0\n",
      "4   22.0    Delhi    Teacher  50000.0         1.0\n",
      "5   35.0     Pune        NaN  70000.0         6.0\n",
      "6   40.0      NaN  Scientist  95000.0        10.0\n",
      "7   26.0   Mumbai    Teacher  72000.0         3.0\n",
      "8   32.0    Delhi   Engineer  68000.0         7.0\n",
      "9    NaN  Chennai     Doctor  82000.0         NaN\n",
      "10  21.0     Pune   Engineer  64000.0         2.0\n",
      "11  34.0   Mumbai    Manager  74000.0         6.0\n",
      "12  31.0    Delhi    Manager  85000.0         7.0\n",
      "13  29.0     Pune  Scientist  90000.0         9.0\n",
      "14  33.0  Chennai     Doctor  78000.0         5.0\n",
      "<class 'pandas.core.frame.DataFrame'>\n",
      "RangeIndex: 15 entries, 0 to 14\n",
      "Data columns (total 5 columns):\n",
      " #   Column      Non-Null Count  Dtype  \n",
      "---  ------      --------------  -----  \n",
      " 0   Age         13 non-null     float64\n",
      " 1   City        14 non-null     object \n",
      " 2   Job         14 non-null     object \n",
      " 3   Income      14 non-null     float64\n",
      " 4   Experience  14 non-null     float64\n",
      "dtypes: float64(3), object(2)\n",
      "memory usage: 732.0+ bytes\n",
      "None\n"
     ]
    }
   ],
   "source": [
    "dataSet = pd.read_csv(r'C:\\Users\\worka\\OneDrive\\Desktop\\Github\\python-common-book\\machine learning\\ids\\assignments\\dummy_data.csv')\n",
    "print(dataSet)\n",
    "print(dataSet.info())"
   ]
  },
  {
   "cell_type": "markdown",
   "metadata": {},
   "source": [
    "Drop Column"
   ]
  },
  {
   "cell_type": "code",
   "execution_count": 5,
   "metadata": {},
   "outputs": [
    {
     "name": "stdout",
     "output_type": "stream",
     "text": [
      "     Age     City        Job   Income\n",
      "0   25.0     Pune   Engineer  65000.0\n",
      "1   30.0    Delhi     Doctor  80000.0\n",
      "2   28.0  Chennai    Manager      NaN\n",
      "3    NaN   Mumbai   Engineer  75000.0\n",
      "4   22.0    Delhi    Teacher  50000.0\n",
      "5   35.0     Pune        NaN  70000.0\n",
      "6   40.0      NaN  Scientist  95000.0\n",
      "7   26.0   Mumbai    Teacher  72000.0\n",
      "8   32.0    Delhi   Engineer  68000.0\n",
      "9    NaN  Chennai     Doctor  82000.0\n",
      "10  21.0     Pune   Engineer  64000.0\n",
      "11  34.0   Mumbai    Manager  74000.0\n",
      "12  31.0    Delhi    Manager  85000.0\n",
      "13  29.0     Pune  Scientist  90000.0\n",
      "14  33.0  Chennai     Doctor  78000.0\n"
     ]
    }
   ],
   "source": [
    "dataSet = dataSet.drop('Experience', axis=1)  # Dropping the 'Experience' column\n",
    "print(dataSet)"
   ]
  },
  {
   "cell_type": "markdown",
   "metadata": {},
   "source": [
    "Data cleaning / Imputation"
   ]
  },
  {
   "cell_type": "code",
   "execution_count": 6,
   "metadata": {},
   "outputs": [
    {
     "name": "stdout",
     "output_type": "stream",
     "text": [
      "          Age     City        Job        Income\n",
      "0   25.000000     Pune   Engineer  65000.000000\n",
      "1   30.000000    Delhi     Doctor  80000.000000\n",
      "2   28.000000  Chennai    Manager  74857.142857\n",
      "3   29.692308   Mumbai   Engineer  75000.000000\n",
      "4   22.000000    Delhi    Teacher  50000.000000\n",
      "5   35.000000     Pune        NaN  70000.000000\n",
      "6   40.000000      NaN  Scientist  95000.000000\n",
      "7   26.000000   Mumbai    Teacher  72000.000000\n",
      "8   32.000000    Delhi   Engineer  68000.000000\n",
      "9   29.692308  Chennai     Doctor  82000.000000\n",
      "10  21.000000     Pune   Engineer  64000.000000\n",
      "11  34.000000   Mumbai    Manager  74000.000000\n",
      "12  31.000000    Delhi    Manager  85000.000000\n",
      "13  29.000000     Pune  Scientist  90000.000000\n",
      "14  33.000000  Chennai     Doctor  78000.000000\n"
     ]
    }
   ],
   "source": [
    "imputer = SimpleImputer(strategy=\"mean\", missing_values=np.nan)\n",
    "imputer = imputer.fit(dataSet[['Age','Income']])\n",
    "dataSet[['Age', 'Income']] = imputer.transform(dataSet[['Age', 'Income']])\n",
    "print(dataSet)"
   ]
  },
  {
   "cell_type": "markdown",
   "metadata": {},
   "source": [
    "Label Encoding & OneHotEncoding\n"
   ]
  },
  {
   "cell_type": "code",
   "execution_count": 7,
   "metadata": {},
   "outputs": [
    {
     "name": "stdout",
     "output_type": "stream",
     "text": [
      "          Age  City        Job        Income\n",
      "0   25.000000     3   Engineer  65000.000000\n",
      "1   30.000000     1     Doctor  80000.000000\n",
      "2   28.000000     0    Manager  74857.142857\n",
      "3   29.692308     2   Engineer  75000.000000\n",
      "4   22.000000     1    Teacher  50000.000000\n",
      "5   35.000000     3        NaN  70000.000000\n",
      "6   40.000000     4  Scientist  95000.000000\n",
      "7   26.000000     2    Teacher  72000.000000\n",
      "8   32.000000     1   Engineer  68000.000000\n",
      "9   29.692308     0     Doctor  82000.000000\n",
      "10  21.000000     3   Engineer  64000.000000\n",
      "11  34.000000     2    Manager  74000.000000\n",
      "12  31.000000     1    Manager  85000.000000\n",
      "13  29.000000     3  Scientist  90000.000000\n",
      "14  33.000000     0     Doctor  78000.000000\n",
      "[[0.00000000e+00 1.00000000e+00 0.00000000e+00 0.00000000e+00\n",
      "  0.00000000e+00 0.00000000e+00 2.50000000e+01 3.00000000e+00\n",
      "  6.50000000e+04]\n",
      " [1.00000000e+00 0.00000000e+00 0.00000000e+00 0.00000000e+00\n",
      "  0.00000000e+00 0.00000000e+00 3.00000000e+01 1.00000000e+00\n",
      "  8.00000000e+04]\n",
      " [0.00000000e+00 0.00000000e+00 1.00000000e+00 0.00000000e+00\n",
      "  0.00000000e+00 0.00000000e+00 2.80000000e+01 0.00000000e+00\n",
      "  7.48571429e+04]\n",
      " [0.00000000e+00 1.00000000e+00 0.00000000e+00 0.00000000e+00\n",
      "  0.00000000e+00 0.00000000e+00 2.96923077e+01 2.00000000e+00\n",
      "  7.50000000e+04]\n",
      " [0.00000000e+00 0.00000000e+00 0.00000000e+00 0.00000000e+00\n",
      "  1.00000000e+00 0.00000000e+00 2.20000000e+01 1.00000000e+00\n",
      "  5.00000000e+04]\n",
      " [0.00000000e+00 0.00000000e+00 0.00000000e+00 0.00000000e+00\n",
      "  0.00000000e+00 1.00000000e+00 3.50000000e+01 3.00000000e+00\n",
      "  7.00000000e+04]\n",
      " [0.00000000e+00 0.00000000e+00 0.00000000e+00 1.00000000e+00\n",
      "  0.00000000e+00 0.00000000e+00 4.00000000e+01 4.00000000e+00\n",
      "  9.50000000e+04]\n",
      " [0.00000000e+00 0.00000000e+00 0.00000000e+00 0.00000000e+00\n",
      "  1.00000000e+00 0.00000000e+00 2.60000000e+01 2.00000000e+00\n",
      "  7.20000000e+04]\n",
      " [0.00000000e+00 1.00000000e+00 0.00000000e+00 0.00000000e+00\n",
      "  0.00000000e+00 0.00000000e+00 3.20000000e+01 1.00000000e+00\n",
      "  6.80000000e+04]\n",
      " [1.00000000e+00 0.00000000e+00 0.00000000e+00 0.00000000e+00\n",
      "  0.00000000e+00 0.00000000e+00 2.96923077e+01 0.00000000e+00\n",
      "  8.20000000e+04]\n",
      " [0.00000000e+00 1.00000000e+00 0.00000000e+00 0.00000000e+00\n",
      "  0.00000000e+00 0.00000000e+00 2.10000000e+01 3.00000000e+00\n",
      "  6.40000000e+04]\n",
      " [0.00000000e+00 0.00000000e+00 1.00000000e+00 0.00000000e+00\n",
      "  0.00000000e+00 0.00000000e+00 3.40000000e+01 2.00000000e+00\n",
      "  7.40000000e+04]\n",
      " [0.00000000e+00 0.00000000e+00 1.00000000e+00 0.00000000e+00\n",
      "  0.00000000e+00 0.00000000e+00 3.10000000e+01 1.00000000e+00\n",
      "  8.50000000e+04]\n",
      " [0.00000000e+00 0.00000000e+00 0.00000000e+00 1.00000000e+00\n",
      "  0.00000000e+00 0.00000000e+00 2.90000000e+01 3.00000000e+00\n",
      "  9.00000000e+04]\n",
      " [1.00000000e+00 0.00000000e+00 0.00000000e+00 0.00000000e+00\n",
      "  0.00000000e+00 0.00000000e+00 3.30000000e+01 0.00000000e+00\n",
      "  7.80000000e+04]]\n"
     ]
    }
   ],
   "source": [
    "le = LabelEncoder()\n",
    "dataSet['City'] = le.fit_transform(dataSet['City']) \n",
    "print(dataSet)\n",
    "\n",
    "ct = ColumnTransformer([('onehot', OneHotEncoder(), ['Job'])], remainder='passthrough')\n",
    "dataSet = ct.fit_transform(dataSet)\n",
    "print(dataSet)"
   ]
  },
  {
   "cell_type": "markdown",
   "metadata": {},
   "source": [
    "Split 80/20"
   ]
  },
  {
   "cell_type": "code",
   "execution_count": 8,
   "metadata": {},
   "outputs": [
    {
     "name": "stdout",
     "output_type": "stream",
     "text": [
      "X_train shape: (12, 8)\n",
      "X_test shape: (3, 8)\n",
      "y_train shape: (12,)\n",
      "y_test shape: (3,)\n"
     ]
    }
   ],
   "source": [
    "X = dataSet[:, :-1]\n",
    "y = dataSet[:, -1]  \n",
    "\n",
    "# Split the dataset into train and test sets (80% train, 20% test)\n",
    "X_train, X_test, y_train, y_test = train_test_split(X, y, test_size=0.2, random_state=42)\n",
    "\n",
    "# Display the shapes of train and test sets\n",
    "print(\"X_train shape:\", X_train.shape)\n",
    "print(\"X_test shape:\", X_test.shape)\n",
    "print(\"y_train shape:\", y_train.shape)\n",
    "print(\"y_test shape:\", y_test.shape)\n"
   ]
  },
  {
   "cell_type": "markdown",
   "metadata": {},
   "source": [
    "Feature scaling function (Standard Scaling)"
   ]
  },
  {
   "cell_type": "code",
   "execution_count": 20,
   "metadata": {},
   "outputs": [
    {
     "name": "stdout",
     "output_type": "stream",
     "text": [
      "[[-0.4472136  -0.57735027 -0.4472136   2.23606798 -0.4472136  -0.30151134\n",
      "  -0.14387225  1.01360607]\n",
      " [-0.4472136  -0.57735027 -0.4472136  -0.4472136  -0.4472136   3.31662479\n",
      "   1.04784835  1.01360607]\n",
      " [-0.4472136   1.73205081 -0.4472136  -0.4472136  -0.4472136  -0.30151134\n",
      "   0.45198805 -0.60816364]\n",
      " [-0.4472136  -0.57735027  2.23606798 -0.4472136  -0.4472136  -0.30151134\n",
      "  -0.34249235 -1.41904849]\n",
      " [ 2.23606798 -0.57735027 -0.4472136  -0.4472136  -0.4472136  -0.30151134\n",
      "   0.05474785 -0.60816364]\n",
      " [ 2.23606798 -0.57735027 -0.4472136  -0.4472136  -0.4472136  -0.30151134\n",
      "   0.65060815 -1.41904849]\n",
      " [-0.4472136  -0.57735027 -0.4472136  -0.4472136   2.23606798 -0.30151134\n",
      "  -1.53421296 -0.60816364]\n",
      " [-0.4472136  -0.57735027 -0.4472136  -0.4472136   2.23606798 -0.30151134\n",
      "  -0.73973255  0.20272121]\n",
      " [-0.4472136   1.73205081 -0.4472136  -0.4472136  -0.4472136  -0.30151134\n",
      "  -1.73283306  1.01360607]\n",
      " [-0.4472136  -0.57735027  2.23606798 -0.4472136  -0.4472136  -0.30151134\n",
      "   0.25336795 -0.60816364]\n",
      " [-0.4472136   1.73205081 -0.4472136  -0.4472136  -0.4472136  -0.30151134\n",
      "  -0.00636603  0.20272121]\n",
      " [-0.4472136  -0.57735027 -0.4472136   2.23606798 -0.4472136  -0.30151134\n",
      "   2.04094885  1.82449092]]\n",
      "Mean of each feature: [ 0.16666667  0.25        0.16666667  0.16666667  0.16666667  0.08333333\n",
      " 29.72435897  1.75      ]\n",
      "Standard deviation of each feature: [0.372678   0.4330127  0.372678   0.372678   0.372678   0.2763854\n",
      " 5.03473716 1.23322072]\n"
     ]
    }
   ],
   "source": [
    "# Initialize the StandardScaler\n",
    "scaler = StandardScaler()\n",
    "\n",
    "# Fit the scaler on the training data and transform both training and test data\n",
    "X_train_scaled = scaler.fit_transform(X_train)\n",
    "X_test_scaled = scaler.transform(X_test)\n",
    "print(X_train_scaled)\n",
    "\n",
    "# Display the feature scaling function parameters (mean and standard deviation)\n",
    "print(\"Mean of each feature:\", scaler.mean_)\n",
    "print(\"Standard deviation of each feature:\", scaler.scale_)"
   ]
  },
  {
   "cell_type": "code",
   "execution_count": 10,
   "metadata": {},
   "outputs": [
    {
     "name": "stdout",
     "output_type": "stream",
     "text": [
      "I acknowledge that on the evening of February 20th, I wrote the code that exists in this file.\n",
      "I understand the implications of plagiarism and hereby take full responsibility.\n",
      "~ Aryan Sinha\n"
     ]
    }
   ],
   "source": [
    "print(\"\"\"I acknowledge that on the evening of February 20th, I wrote the code that exists in this file.\n",
    "I understand the implications of plagiarism and hereby take full responsibility.\n",
    "~ Aryan Sinha\"\"\")\n"
   ]
  },
  {
   "cell_type": "code",
   "execution_count": 11,
   "metadata": {},
   "outputs": [
    {
     "name": "stdout",
     "output_type": "stream",
     "text": [
      "Prediction on Train Data:  [ 84751.73038273  70000.          68586.68153565  76088.91051587\n",
      "  79908.20438428  78091.79561572  56671.76299923  65328.23700077\n",
      "  67333.73819205  83768.23234127  71079.5802723  100248.26961727]\n",
      "Prediction on Test Data:  [74859.67687925 91447.55416668 71242.34689662]\n"
     ]
    }
   ],
   "source": [
    "#applying linear regression \n",
    "from sklearn.linear_model import LinearRegression\n",
    "regression = LinearRegression(n_jobs=-1)\n",
    "regression.fit(X_train,y_train)\n",
    "Y_train_predict = regression.predict(X_train)\n",
    "Y_test_predict = regression.predict(X_test)\n",
    "print(\"Prediction on Train Data: \",Y_train_predict)\n",
    "print(\"Prediction on Test Data: \",Y_test_predict)"
   ]
  },
  {
   "cell_type": "code",
   "execution_count": 12,
   "metadata": {},
   "outputs": [
    {
     "data": {
      "image/png": "[encoded data removed]",
      "text/plain": [
       "<Figure size 640x480 with 1 Axes>"
      ]
     },
     "metadata": {},
     "output_type": "display_data"
    }
   ],
   "source": [
    "import matplotlib.pyplot as plt\n",
    "plt.scatter(y_train,Y_train_predict, c='red')\n",
    "plt.title('Linear Regression')\n",
    "plt.show()"
   ]
  },
  {
   "cell_type": "code",
   "execution_count": 13,
   "metadata": {},
   "outputs": [
    {
     "data": {
      "image/png": "[encoded data removed]",
      "text/plain": [
       "<Figure size 640x480 with 1 Axes>"
      ]
     },
     "metadata": {},
     "output_type": "display_data"
    }
   ],
   "source": [
    "import matplotlib.pyplot as plt\n",
    "plt.scatter(y_test,Y_test_predict, color='blue')\n",
    "plt.title('Linear Regression')\n",
    "plt.show()"
   ]
  },
  {
   "cell_type": "code",
   "execution_count": 14,
   "metadata": {},
   "outputs": [
    {
     "name": "stdout",
     "output_type": "stream",
     "text": [
      "Aryan Sinha\n"
     ]
    }
   ],
   "source": [
    "print(\"Aryan Sinha\")"
   ]
  }
 ],
 "metadata": {
  "kernelspec": {
   "display_name": "Python 3",
   "language": "python",
   "name": "python3"
  },
  "language_info": {
   "codemirror_mode": {
    "name": "ipython",
    "version": 3
   },
   "file_extension": ".py",
   "mimetype": "text/x-python",
   "name": "python",
   "nbconvert_exporter": "python",
   "pygments_lexer": "ipython3",
   "version": "3.12.2"
  }
 },
 "nbformat": 4,
 "nbformat_minor": 2
}
